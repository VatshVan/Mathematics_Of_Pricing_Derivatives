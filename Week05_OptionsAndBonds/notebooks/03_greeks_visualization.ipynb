{
 "cells": [
  {
   "cell_type": "code",
   "execution_count": 2,
   "id": "92ff354c",
   "metadata": {},
   "outputs": [],
   "source": [
    "import numpy as np\n",
    "import matplotlib.pyplot as plt\n",
    "import ipywidgets as widgets\n",
    "from ipywidgets import interact\n",
    "\n",
    "from black_scholes import black_scholes_greeks"
   ]
  },
  {
   "cell_type": "code",
   "execution_count": 9,
   "id": "a5e67d75",
   "metadata": {},
   "outputs": [],
   "source": [
    "def plot_greek_curve(x, greek_vals, greek_name, xlabel):\n",
    "    plt.figure(figsize=(9, 5))\n",
    "    plt.plot(x, greek_vals, label=greek_name, linewidth=2)\n",
    "    plt.title(f\"{greek_name} vs {xlabel}\")\n",
    "    plt.xlabel(xlabel)\n",
    "    plt.ylabel(greek_name)\n",
    "    plt.grid(True)\n",
    "    plt.legend()\n",
    "    plt.tight_layout()\n",
    "    plt.savefig(f\"{greek_name.lower()}_curve.png\")\n",
    "    plt.show()"
   ]
  },
  {
   "cell_type": "code",
   "execution_count": 10,
   "id": "34af04a8",
   "metadata": {},
   "outputs": [
    {
     "data": {
      "application/vnd.jupyter.widget-view+json": {
       "model_id": "2a41e9b61b124598b63677c2a89a5ec2",
       "version_major": 2,
       "version_minor": 0
      },
      "text/plain": [
       "interactive(children=(FloatSlider(value=100.0, description='Strike K', max=150.0, min=50.0, step=5.0), FloatSl…"
      ]
     },
     "metadata": {},
     "output_type": "display_data"
    }
   ],
   "source": [
    "@interact(\n",
    "    K=widgets.FloatSlider(value=100, min=50, max=150, step=5, description=\"Strike K\"),\n",
    "    T=widgets.FloatSlider(value=1.0, min=0.05, max=2.0, step=0.05, description=\"Time to Maturity\"),\n",
    "    sigma=widgets.FloatSlider(value=0.2, min=0.05, max=1.0, step=0.05, description=\"Volatility\"),\n",
    "    r=widgets.FloatSlider(value=0.05, min=0.0, max=0.2, step=0.01, description=\"Interest Rate\"),\n",
    "    option_type=widgets.ToggleButtons(options=['call', 'put'], value='call', description='Type')\n",
    ")\n",
    "def greeks_vs_S(K, T, sigma, r, option_type):\n",
    "    S_vals = np.linspace(50, 150, 200)\n",
    "    deltas, gammas, vegas, thetas, rhos = [], [], [], [], []\n",
    "\n",
    "    for S in S_vals:\n",
    "        g = black_scholes_greeks(S, K, T, r, sigma, option_type)\n",
    "        deltas.append(g[\"delta\"])\n",
    "        gammas.append(g[\"gamma\"])\n",
    "        vegas.append(g[\"vega\"])\n",
    "        thetas.append(g[\"theta\"])\n",
    "        rhos.append(g[\"rho\"])\n",
    "\n",
    "    plot_greek_curve(S_vals, deltas, \"Delta\", \"Spot Price S\")\n",
    "    plot_greek_curve(S_vals, gammas, \"Gamma\", \"Spot Price S\")\n",
    "    plot_greek_curve(S_vals, thetas, \"Theta\", \"Spot Price S\")\n",
    "    plot_greek_curve(S_vals, vegas, \"Vega\", \"Spot Price S\")\n",
    "    plot_greek_curve(S_vals, rhos, \"Rho\", \"Spot Price S\")"
   ]
  },
  {
   "cell_type": "code",
   "execution_count": 12,
   "id": "adcd1620",
   "metadata": {},
   "outputs": [
    {
     "data": {
      "application/vnd.jupyter.widget-view+json": {
       "model_id": "88e5da7771034e5cbbba5381314cde54",
       "version_major": 2,
       "version_minor": 0
      },
      "text/plain": [
       "interactive(children=(FloatSlider(value=100.0, description='Spot S', max=150.0, min=50.0, step=5.0), FloatSlid…"
      ]
     },
     "metadata": {},
     "output_type": "display_data"
    }
   ],
   "source": [
    "@interact(\n",
    "    S=widgets.FloatSlider(value=100, min=50, max=150, step=5, description=\"Spot S\"),\n",
    "    K=widgets.FloatSlider(value=100, min=50, max=150, step=5, description=\"Strike K\"),\n",
    "    sigma=widgets.FloatSlider(value=0.2, min=0.05, max=1.0, step=0.05, description=\"Volatility\"),\n",
    "    r=widgets.FloatSlider(value=0.05, min=0.0, max=0.2, step=0.01, description=\"Interest Rate\"),\n",
    "    option_type=widgets.ToggleButtons(options=['call', 'put'], value='call', description='Type')\n",
    ")\n",
    "def greeks_vs_T(S, K, sigma, r, option_type):\n",
    "    T_vals = np.linspace(0.01, 2, 200)\n",
    "    vegas, thetas = [], []\n",
    "\n",
    "    for T in T_vals:\n",
    "        g = black_scholes_greeks(S, K, T, r, sigma, option_type)\n",
    "        vegas.append(g[\"vega\"])\n",
    "        thetas.append(g[\"theta\"])\n",
    "\n",
    "    plot_greek_curve(T_vals, thetas, \"Theta\", \"Time to Maturity T\")\n",
    "    plot_greek_curve(T_vals, vegas, \"Vega\", \"Time to Maturity T\")"
   ]
  },
  {
   "cell_type": "code",
   "execution_count": 13,
   "id": "e37c9cc0",
   "metadata": {},
   "outputs": [
    {
     "data": {
      "application/vnd.jupyter.widget-view+json": {
       "model_id": "2cf2678d25554947b88eba7c681c05a5",
       "version_major": 2,
       "version_minor": 0
      },
      "text/plain": [
       "interactive(children=(FloatSlider(value=100.0, description='Spot S', max=150.0, min=50.0, step=5.0), FloatSlid…"
      ]
     },
     "metadata": {},
     "output_type": "display_data"
    }
   ],
   "source": [
    "@interact(\n",
    "    S=widgets.FloatSlider(value=100, min=50, max=150, step=5, description=\"Spot S\"),\n",
    "    K=widgets.FloatSlider(value=100, min=50, max=150, step=5, description=\"Strike K\"),\n",
    "    T=widgets.FloatSlider(value=1.0, min=0.05, max=2.0, step=0.05, description=\"Time to Maturity\"),\n",
    "    r=widgets.FloatSlider(value=0.05, min=0.0, max=0.2, step=0.01, description=\"Interest Rate\"),\n",
    "    option_type=widgets.ToggleButtons(options=['call', 'put'], value='call', description='Type')\n",
    ")\n",
    "def vega_vs_sigma(S, K, T, r, option_type):\n",
    "    sigma_vals = np.linspace(0.01, 1.0, 200)\n",
    "    vegas = []\n",
    "\n",
    "    for sigma in sigma_vals:\n",
    "        g = black_scholes_greeks(S, K, T, r, sigma, option_type)\n",
    "        vegas.append(g[\"vega\"])\n",
    "\n",
    "    plot_greek_curve(sigma_vals, vegas, \"Vega\", \"Volatility σ\")"
   ]
  }
 ],
 "metadata": {
  "kernelspec": {
   "display_name": "base",
   "language": "python",
   "name": "python3"
  },
  "language_info": {
   "codemirror_mode": {
    "name": "ipython",
    "version": 3
   },
   "file_extension": ".py",
   "mimetype": "text/x-python",
   "name": "python",
   "nbconvert_exporter": "python",
   "pygments_lexer": "ipython3",
   "version": "3.12.7"
  }
 },
 "nbformat": 4,
 "nbformat_minor": 5
}
